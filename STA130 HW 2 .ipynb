{
 "cells": [
  {
   "cell_type": "markdown",
   "id": "425ad82d",
   "metadata": {},
   "source": [
    "<h1 style= \"font-size:40px;font-family:'Times New Roman';color:#f07529\"> Stat130 Homework 2 </h1>"
   ]
  },
  {
   "cell_type": "markdown",
   "id": "5560abc4",
   "metadata": {},
   "source": [
    "<span style = \"font-family:'Times New Roman';color:#f54263;font-size:20px\"> ChatGPT Chatlog: https://chatgpt.com/share/66fa0f1a-7b5c-800f-9e40-1649e3e02507 </span>"
   ]
  },
  {
   "cell_type": "markdown",
   "id": "d28051e5",
   "metadata": {},
   "source": [
    "1. Begin (or restart) part \"3(a)\" of the TUT Demo and interact with a ChatBot to make sure you understand how each part the Monte Hall problem code above works"
   ]
  },
  {
   "cell_type": "markdown",
   "id": "ae97d46e",
   "metadata": {},
   "source": [
    "2. Extend your ChatBot sessions to now address part \"3(b)\" of the TUT Demo and interact with your ChatBot to see if it can suggest a simpler, more streamlined way to code up this for loop simulation so the process is more clear and easier to understand; then, describe any preferences you have in terms of readibility or explainability between the original code and the code improvements suggested by the ChatBot"
   ]
  },
  {
   "cell_type": "markdown",
   "id": "08e21526",
   "metadata": {},
   "source": [
    "3. Submit your preferred version of the Monty Hall problem that is verified to be running and working with a final printed output of the code; then, add code comments explaining the purpose of each line of the code"
   ]
  },
  {
   "cell_type": "code",
   "execution_count": 1,
   "id": "1fa437e5",
   "metadata": {},
   "outputs": [
    {
     "name": "stdout",
     "output_type": "stream",
     "text": [
      "Win rate when switching: 0.67\n"
     ]
    }
   ],
   "source": [
    "import numpy as np\n",
    "\n",
    "# Initialization\n",
    "all_doors = [1, 2, 3]  # List of doors\n",
    "my_initial_choice = 1  # Player initially chooses door 1\n",
    "win_count = 0  # Counter to record the number of wins\n",
    "repetitions = 100000  # Number of repetitions\n",
    "\n",
    "# Run the simulation\n",
    "for _ in range(repetitions):\n",
    "    winning_door = np.random.choice(all_doors)  # Randomly pick the winning door\n",
    "\n",
    "    # List of doors excluding the initially chosen door\n",
    "    remaining_doors = [door for door in all_doors if door != my_initial_choice]\n",
    "\n",
    "    # Reveal a goat door from remaining doors (remove the winning door if it's still in the list)\n",
    "    if winning_door in remaining_doors:\n",
    "        remaining_doors.remove(winning_door)\n",
    "    goat_door = np.random.choice(remaining_doors)\n",
    "\n",
    "    # Switch to the remaining door\n",
    "    final_choice = [door for door in all_doors if door not in (my_initial_choice, goat_door)][0]\n",
    "\n",
    "    # Check if the player wins after switching\n",
    "    if final_choice == winning_door:\n",
    "        win_count += 1\n",
    "\n",
    "# Calculate and print the win rate\n",
    "win_rate = win_count / repetitions\n",
    "print(f\"Win rate when switching: {win_rate:.2f}\")\n",
    "#preferences include changing i_won to win_count, my_door_choice to my_initial_door_choice, all_door_options to door_options\n",
    "#removal of try-except to removing initially chosen door"
   ]
  },
  {
   "cell_type": "markdown",
   "id": "d19d8c59",
   "metadata": {},
   "source": [
    "6. Report on your experience interacting with ChatBots to understand the Monte Hall problem and \"Markovian ChatBot\" code\n",
    "\n",
    "- Discuss how quickly the ChatBot was able to be helpful for each of the above questions, and if so, how?\n",
    "\n",
    "\n",
    "- Discuss whether or not interacting with ChatBot to try to figure things out was frustrating or unhelpful, and if so, how?\n",
    "\n",
    "- Based on your experiences to date (e.g., including using ChatBots to troubleshoot coding errors in the previous homework), provide an overall assessment evaluating the usefulness of ChatBots as tools to help you understand code"
   ]
  },
  {
   "cell_type": "markdown",
   "id": "5c0be557",
   "metadata": {},
   "source": [
    "ChatBot was rather quick with generating a simpler way to present the flow of logic to the MonteHall problem. It immediately distinguished confusing wording and made changes to the definitions accordingly. It's rather helpful for some like me learning the basic terminology of codes to recieve instant response and troubleshoot for basic  errors. I'd say it's pretty useful at the time, however I believe it might become less helpful as we progress to more complicated codes."
   ]
  },
  {
   "cell_type": "markdown",
   "id": "073ba5f4",
   "metadata": {},
   "source": [
    "7. Reflect on your experience interacting with ChatBot and describe how your perception of AI-driven assistance tools in the context of learning coding, statistics, and data science has been evolving (or not) since joining the course\n"
   ]
  },
  {
   "cell_type": "markdown",
   "id": "ae73eac6",
   "metadata": {},
   "source": [
    "I was initially very surprised that ChatBots had the ability to write and understand code. Since my previous school did not permit ChatGPT on the grounds of academic integrity, I never explored it earnestly. However, since taking this course, ChatGPT has quickly become a crucial tool in troubleshooting my codes and helping me catch up to the current material. I am wary that I may become overly dependent on Chatbots in an effort to save time. But I also do try my best to understand the specific functionality within each chunk of code. "
   ]
  },
  {
   "cell_type": "code",
   "execution_count": null,
   "id": "4f6c4c63",
   "metadata": {},
   "outputs": [],
   "source": []
  }
 ],
 "metadata": {
  "kernelspec": {
   "display_name": "Python 3 (ipykernel)",
   "language": "python",
   "name": "python3"
  },
  "language_info": {
   "codemirror_mode": {
    "name": "ipython",
    "version": 3
   },
   "file_extension": ".py",
   "mimetype": "text/x-python",
   "name": "python",
   "nbconvert_exporter": "python",
   "pygments_lexer": "ipython3",
   "version": "3.11.6"
  }
 },
 "nbformat": 4,
 "nbformat_minor": 5
}
