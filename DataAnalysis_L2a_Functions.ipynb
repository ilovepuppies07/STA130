{
 "cells": [
  {
   "cell_type": "markdown",
   "metadata": {
    "jp-MarkdownHeadingCollapsed": true
   },
   "source": [
    "# Decomposition and Abstraction\n",
    "\n",
    "- Remember homework 1: Calculating sqrt(x).\n",
    "- What if we want to calculate sqrt(x) in different parts of our program?\n",
    "- Should we just copy the same four lines of code into multiple places?\n",
    "\n",
    "- this is not a good idea:\n",
    "- need to duplicate any change\n",
    "- need to make sure I rename variables that should be different\n",
    "- need to fix bugs in multiple places\n",
    "- makes code longer and harder to read\n",
    "- the concepts of Decomposition and Abstraction help us to avoid this problem"
   ]
  },
  {
   "cell_type": "markdown",
   "metadata": {},
   "source": [
    "# Topics\n",
    "\n",
    "- how to structure code\n",
    "- using specifications in the coding process\n",
    "- understanding scope"
   ]
  },
  {
   "cell_type": "markdown",
   "metadata": {},
   "source": [
    "# Approaching programming tasks\n",
    "\n",
    "- Get homework assignment\n",
    "- Understand what needs to be done\n",
    "- Develop algorithm (in your head or maybe sketching some ideas on paper)\n",
    "- Open a new file and give it a name\n",
    "- Start typing and translate algorithm into linear sequence of Python statements\n",
    "\n",
    "- __This works well for (very) small-scale problems__\n"
   ]
  },
  {
   "cell_type": "markdown",
   "metadata": {},
   "source": [
    "__What happens for larger scale tasks?__\n",
    "\n",
    "- this quickly becomes unmanageable\n",
    "- code becomes hard to read when you have to scroll up and down over pages of text\n",
    "- hard to find natural breakpoints for debugging\n",
    "- hard to keep track of what the state of variables etc should be at which point\n",
    "- may need code repetition\n",
    "- more is not better when it comes to lines of code\n",
    "- readability of code is not just an aesthetic question\n",
    "- what if you want to perform same task on different inputs many times?"
   ]
  },
  {
   "cell_type": "markdown",
   "metadata": {},
   "source": [
    "# Better approach: Decomposition and Abstraction\n",
    "\n",
    "- make use of the concept of __functions__ to break your code up into pieces with well defined, well, function\n",
    "- this concept exists in Python and any other high level language (that I know, at least)\n",
    "- avoid code repetition\n",
    "- allow to define clear __specification__ of function\n",
    "- what are the inputs to the function (e.g., floating point numbers x >= 0)?\n",
    "- what operations should the function perform (e.g., calculate sqrt(x))\n",
    "- what value the function should return (e.g., an error if x < 0, sqrt(x) if x > 0)\n",
    "- functions allow __Decomposition__ and __Abstraction__"
   ]
  },
  {
   "cell_type": "markdown",
   "metadata": {},
   "source": [
    "# Abstraction\n",
    "\n",
    "- we can use __functions__ to provide __abstraction__\n",
    "- to include function in our code, we need to know __how__ to use it (it's interface)\n",
    "- to use the function, we do not need to know the function works internally\n",
    "- I can use other people's functions as long as I know the interface (input and return values)\n",
    "- we do this __all the time__ in Python\n",
    "- for my own functions that means I can write the structure of the main program, even if I don't know __yet__ how exactly I'm going to the implement the function later\n",
    "- can hide the details of how the function works\n",
    "- once function is fully validated, can use as black box\n",
    "- only need to document the __function specifications__, e.g. with __docstrings__\n",
    "\n"
   ]
  },
  {
   "cell_type": "markdown",
   "metadata": {},
   "source": [
    "# Decomposition\n",
    "\n",
    "- break code up into different,  pieces, each with defined input, purpose and output\n",
    "- generally call such pieces __modules__\n",
    "- each module is self-contained - only needs the specified input to run\n",
    "- makes code more readable (shorter sequences of code that need to be understand)\n",
    "- makes code reusable\n",
    "- need to debug only once\n",
    "- can develop and debug modules independently\n",
    "- Decomposition in Python can be achieved with __functions__ or with __classes__ (object oriented paradigm)\n",
    "- we have been using classes all along, but for now we'll focus on __functions__ for our own code"
   ]
  },
  {
   "cell_type": "markdown",
   "metadata": {},
   "source": [
    "# Functions\n",
    "\n",
    "- reusable piece of code with defined __input__ and __output__ (return)\n",
    "- only executed when __called__ in sequence of program execution\n",
    "- __What makes a function?__\n",
    "- Function is identified by a __name__\n",
    "- Function in general (but not always) has __paramaters__ (input values)\n",
    "- Function has written __specification__, e.g., docstring (it will work without, but you'll be glad you did it, eventually)\n",
    "- Function includes code that does something: __body__\n",
    "- Function in general (but not always) returns some values that depend on processed input parameters\n",
    "- if no return is specified function will return __NONE__\n",
    "\n",
    "__Example:__\n"
   ]
  },
  {
   "cell_type": "code",
   "execution_count": 3,
   "metadata": {},
   "outputs": [
    {
     "name": "stdout",
     "output_type": "stream",
     "text": [
      "Checking input  -7\n",
      "-7  is negative\n",
      "Checking input  4\n",
      "4  is positive\n",
      "Checking input  6\n",
      "6  is positive\n",
      "Checking input  -6\n",
      "-6  is negative\n",
      "Checking input  -3\n",
      "-3  is negative\n",
      "Checking input  -2\n",
      "-2  is negative\n",
      "Checking input  0\n",
      "0  is positive\n",
      "Checking input  -7\n",
      "-7  is negative\n",
      "Checking input  0\n",
      "0  is positive\n",
      "Checking input  9\n",
      "9  is positive\n"
     ]
    }
   ],
   "source": [
    "import numpy as np\n",
    "\n",
    "# defining function here\n",
    "def is_positive(i):\n",
    "    \"\"\"\n",
    "    Input: integer i\n",
    "    Return: True if i is positive or 0, False if i is negative\n",
    "    \"\"\"\n",
    "    print(\"Checking input \",i)\n",
    "    return i>=0\n",
    "\n",
    "for i in range(10):\n",
    "    k = int(np.random.rand() * 20.0 - 10.0)\n",
    "    f = is_positive(k)\n",
    "    if(f):\n",
    "        print(k, \" is positive\")\n",
    "    else:\n",
    "        print(k, \" is negative\")\n",
    "        \n"
   ]
  },
  {
   "cell_type": "markdown",
   "metadata": {},
   "source": [
    "# Homework exercise\n",
    "\n",
    "- if you did not already do so, translate your sqrt calculating code into a function\n",
    "- ask question if something is not clear"
   ]
  },
  {
   "cell_type": "markdown",
   "metadata": {},
   "source": [
    "# Scope\n",
    "\n",
    "- scope is an essential concept in any programming language\n",
    "- the same variable name can correspond to different actual objects, depending on where it is used\n",
    "- the parameter names in the function input get bound to the value of the supplied parameter at the moment the function is called"
   ]
  },
  {
   "cell_type": "code",
   "execution_count": 4,
   "metadata": {},
   "outputs": [
    {
     "name": "stdout",
     "output_type": "stream",
     "text": [
      "Checking input  -7\n",
      "i =  100\n",
      "-7  is negative\n",
      "Checking input  -2\n",
      "i =  100\n",
      "-2  is negative\n",
      "Checking input  -2\n",
      "i =  100\n",
      "-2  is negative\n",
      "Checking input  5\n",
      "i =  100\n",
      "5  is positive\n",
      "Checking input  4\n",
      "i =  100\n",
      "4  is positive\n",
      "Checking input  -1\n",
      "i =  100\n",
      "-1  is negative\n",
      "Checking input  -6\n",
      "i =  100\n",
      "-6  is negative\n",
      "Checking input  5\n",
      "i =  100\n",
      "5  is positive\n",
      "Checking input  -2\n",
      "i =  100\n",
      "-2  is negative\n",
      "Checking input  -2\n",
      "i =  100\n",
      "-2  is negative\n"
     ]
    }
   ],
   "source": [
    "# defining function here\n",
    "def is_positive(i):\n",
    "    \"\"\"\n",
    "    Input: integer i\n",
    "    Returun: True if i is positive or 0, False if i is negative\n",
    "    \"\"\"\n",
    "    print(\"Checking input \",i)\n",
    "    return i>=0\n",
    "\n",
    "for j in range(10):\n",
    "    # use the same name i in the main body of the program\n",
    "    i = 100\n",
    "    k = int(np.random.rand() * 20.0 - 10.0)\n",
    "    f = is_positive(k)\n",
    "    print(\"i = \", i)\n",
    "    if(f):\n",
    "        print(k, \" is positive\")\n",
    "    else:\n",
    "        print(k, \" is negative\")"
   ]
  },
  {
   "cell_type": "markdown",
   "metadata": {},
   "source": [
    "- __The same variable name \"i\" is bound to different values in the main body and in the function__\n",
    "- it is not the same object, as the scope of the function and the main body are different\n",
    "- __Global scope__ vs __function scope__"
   ]
  },
  {
   "cell_type": "code",
   "execution_count": 6,
   "metadata": {},
   "outputs": [
    {
     "name": "stdout",
     "output_type": "stream",
     "text": [
      "i in function is =  8\n",
      "i in global scope is =  8\n",
      "-2  is positive\n",
      "i in function is =  -2\n",
      "i in global scope is =  -2\n",
      "-2  is negative\n",
      "i in function is =  0\n",
      "i in global scope is =  0\n",
      "-2  is positive\n",
      "i in function is =  6\n",
      "i in global scope is =  6\n",
      "-2  is positive\n",
      "i in function is =  -2\n",
      "i in global scope is =  -2\n",
      "-2  is negative\n",
      "i in function is =  -4\n",
      "i in global scope is =  -4\n",
      "-2  is negative\n",
      "i in function is =  -7\n",
      "i in global scope is =  -7\n",
      "-2  is negative\n",
      "i in function is =  1\n",
      "i in global scope is =  1\n",
      "-2  is positive\n",
      "i in function is =  3\n",
      "i in global scope is =  3\n",
      "-2  is positive\n",
      "i in function is =  4\n",
      "i in global scope is =  4\n",
      "-2  is positive\n"
     ]
    }
   ],
   "source": [
    "def is_positive(i):\n",
    "    \"\"\"\n",
    "    Input: integer i\n",
    "    Returun: True if i is positive or 0, False if i is negative\n",
    "    \"\"\"\n",
    "    f = i>=0\n",
    "    print(\"i in function is = \",i)\n",
    "    return f\n",
    "\n",
    "for j in range(10):\n",
    "    # use the same name i in the main body of the program\n",
    "    i = int(np.random.rand() * 20.0 - 10.0)\n",
    "    f = is_positive(i)\n",
    "    print(\"i in global scope is = \", i)\n",
    "    if(f):\n",
    "        print(k, \" is positive\")\n",
    "    else:\n",
    "        print(k, \" is negative\")"
   ]
  },
  {
   "cell_type": "markdown",
   "metadata": {},
   "source": [
    "- Function has access to variables in global scope, but cannot modify them\n",
    "- be careful, this can lead to a lot of confusion\n",
    "- I suggest making the function as self-contained as possible: __only depend on the input parameters__\n",
    "- if you access variables defined in global scope: make sure to mention in docstring\n",
    "- but in general, don't do that\n",
    "\n",
    "# Example"
   ]
  },
  {
   "cell_type": "code",
   "execution_count": 8,
   "metadata": {},
   "outputs": [
    {
     "name": "stdout",
     "output_type": "stream",
     "text": [
      "Checking input  7\n",
      "jj in function scope is 4321\n",
      "jj in global scope is  12345\n",
      "7  is positive\n",
      "Checking input  0\n",
      "jj in function scope is 4321\n",
      "jj in global scope is  12345\n",
      "0  is positive\n",
      "Checking input  3\n",
      "jj in function scope is 4321\n",
      "jj in global scope is  12345\n",
      "3  is positive\n",
      "Checking input  -3\n",
      "jj in function scope is 4321\n",
      "jj in global scope is  12345\n",
      "-3  is negative\n",
      "Checking input  0\n",
      "jj in function scope is 4321\n",
      "jj in global scope is  12345\n",
      "0  is positive\n",
      "Checking input  -9\n",
      "jj in function scope is 4321\n",
      "jj in global scope is  12345\n",
      "-9  is negative\n",
      "Checking input  5\n",
      "jj in function scope is 4321\n",
      "jj in global scope is  12345\n",
      "5  is positive\n",
      "Checking input  -5\n",
      "jj in function scope is 4321\n",
      "jj in global scope is  12345\n",
      "-5  is negative\n",
      "Checking input  -2\n",
      "jj in function scope is 4321\n",
      "jj in global scope is  12345\n",
      "-2  is negative\n",
      "Checking input  -8\n",
      "jj in function scope is 4321\n",
      "jj in global scope is  12345\n",
      "-8  is negative\n"
     ]
    }
   ],
   "source": [
    "def is_positive(i):\n",
    "    \"\"\"\n",
    "    Input: integer i\n",
    "    Returun: True if i is positive or 0, False if i is negative\n",
    "    \"\"\"\n",
    "    print(\"Checking input \",i)\n",
    "    jj = 4321\n",
    "    print(\"jj in function scope is\", jj)\n",
    "    \n",
    "    return i>=0\n",
    "\n",
    "for j in range(10):\n",
    "    # use the same name i in the main body of the program\n",
    "    k = int(np.random.rand() * 20.0 - 10.0)\n",
    "    jj = 12345\n",
    "    f = is_positive(k)\n",
    "    print(\"jj in global scope is \",jj)\n",
    "    if(f):\n",
    "        print(k, \" is positive\")\n",
    "    else:\n",
    "        print(k, \" is negative\")"
   ]
  },
  {
   "cell_type": "code",
   "execution_count": null,
   "metadata": {},
   "outputs": [],
   "source": []
  }
 ],
 "metadata": {
  "kernelspec": {
   "display_name": "Python 3 (ipykernel)",
   "language": "python",
   "name": "python3"
  },
  "language_info": {
   "codemirror_mode": {
    "name": "ipython",
    "version": 3
   },
   "file_extension": ".py",
   "mimetype": "text/x-python",
   "name": "python",
   "nbconvert_exporter": "python",
   "pygments_lexer": "ipython3",
   "version": "3.9.12"
  }
 },
 "nbformat": 4,
 "nbformat_minor": 4
}
